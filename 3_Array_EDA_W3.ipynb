{
 "cells": [
  {
   "cell_type": "code",
   "execution_count": 19,
   "id": "adf74627-a000-486a-a615-01247cb566ef",
   "metadata": {
    "editable": true,
    "slideshow": {
     "slide_type": ""
    },
    "tags": []
   },
   "outputs": [
    {
     "data": {
      "text/plain": [
       "{'A': [1, 3, 3, nan, 5],\n",
       " 'B': ['Bhar', 'Yoo', 'Gojo', 'ABC', 'XYZ'],\n",
       " 'C': [0.5, 2.0, 3.5, 4.2, nan]}"
      ]
     },
     "execution_count": 19,
     "metadata": {},
     "output_type": "execute_result"
    }
   ],
   "source": [
    "# EDA Cleaning Data \n",
    "# Exploratory Data Analysis [EDA]\n",
    "\n",
    "import numpy as np\n",
    "import pandas as pd\n",
    "data = {\n",
    "    'A' :[1 , 3, 3, np.nan, 5],\n",
    "    'B' :['Bhar', 'Yoo', 'Gojo', 'ABC', 'XYZ'],\n",
    "    'C' :[0.5, 2.0, 3.5, 4.2, np.nan]\n",
    "        }\n",
    "data"
   ]
  },
  {
   "cell_type": "code",
   "execution_count": 20,
   "id": "c46b750a-230f-4885-a475-3853d12a2010",
   "metadata": {},
   "outputs": [
    {
     "name": "stdout",
     "output_type": "stream",
     "text": [
      "Array Is :\n",
      "     A     B    C\n",
      "0  1.0  Bhar  0.5\n",
      "1  3.0   Yoo  2.0\n",
      "2  3.0  Gojo  3.5\n",
      "3  NaN   ABC  4.2\n",
      "4  5.0   XYZ  NaN\n"
     ]
    }
   ],
   "source": [
    "df = pd.DataFrame(data)\n",
    "print(\"Array Is :\")\n",
    "print(df)"
   ]
  },
  {
   "cell_type": "code",
   "execution_count": 21,
   "id": "789df7d0-a47f-4239-ac8c-df0a49334d61",
   "metadata": {},
   "outputs": [
    {
     "name": "stdout",
     "output_type": "stream",
     "text": [
      "     A     B    C\n",
      "0  1.0  Bhar  0.5\n",
      "1  3.0   Yoo  2.0\n",
      "2  3.0  Gojo  3.5\n"
     ]
    }
   ],
   "source": [
    "# Handling missing values\n",
    "df.dropna(inplace = True)\n",
    "print(df)"
   ]
  },
  {
   "cell_type": "code",
   "execution_count": 28,
   "id": "01972818-7c51-45fd-8cd6-d80b5a5ef181",
   "metadata": {},
   "outputs": [
    {
     "name": "stdout",
     "output_type": "stream",
     "text": [
      "     A     B    C\n",
      "0  1.0  Bhar  0.5\n",
      "1  3.0   Yoo  2.0\n",
      "2  3.0  Gojo  3.5\n",
      "0  1.0  Bhar  0.5\n",
      "1  3.0   Yoo  2.0\n",
      "2  3.0  Gojo  3.5\n"
     ]
    }
   ],
   "source": [
    "# Remove Duplicates \n",
    "df = pd.concat([df, df.head()])  # Adding duplicates\n",
    "print(df)\n",
    "df.drop_duplicates(inplace=True)\n"
   ]
  },
  {
   "cell_type": "code",
   "execution_count": 26,
   "id": "267724ee-4901-45c3-8b6b-8b29e800d932",
   "metadata": {},
   "outputs": [
    {
     "name": "stdout",
     "output_type": "stream",
     "text": [
      "\n",
      "After removing duplicates:\n",
      "     A     B    C\n",
      "0  1.0  Bhar  0.5\n",
      "1  3.0   Yoo  2.0\n",
      "2  3.0  Gojo  3.5\n"
     ]
    }
   ],
   "source": [
    "print(\"\\nAfter removing duplicates:\")\n",
    "print(df)"
   ]
  },
  {
   "cell_type": "code",
   "execution_count": 30,
   "id": "bc5f7a7a-82f5-4b8c-ba69-550dc764ed8b",
   "metadata": {},
   "outputs": [
    {
     "name": "stdout",
     "output_type": "stream",
     "text": [
      "\n",
      "Cleaned data exported to 'Clean_Data.csv'.\n"
     ]
    }
   ],
   "source": [
    "df.to_csv('Clean_Data.csv', index=False)\n",
    "print(\"\\nCleaned data exported to 'Clean_Data.csv'.\")"
   ]
  }
 ],
 "metadata": {
  "kernelspec": {
   "display_name": "Python 3 (ipykernel)",
   "language": "python",
   "name": "python3"
  },
  "language_info": {
   "codemirror_mode": {
    "name": "ipython",
    "version": 3
   },
   "file_extension": ".py",
   "mimetype": "text/x-python",
   "name": "python",
   "nbconvert_exporter": "python",
   "pygments_lexer": "ipython3",
   "version": "3.12.4"
  }
 },
 "nbformat": 4,
 "nbformat_minor": 5
}
